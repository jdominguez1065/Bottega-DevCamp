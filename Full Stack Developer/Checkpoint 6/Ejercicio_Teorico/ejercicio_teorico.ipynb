{
 "cells": [
  {
   "cell_type": "code",
   "execution_count": 1,
   "id": "92fe0554-0469-443e-8df5-1f860f9a18b0",
   "metadata": {},
   "outputs": [
    {
     "name": "stdout",
     "output_type": "stream",
     "text": [
      "Jorge\n",
      "Dominguez\n",
      "0\n"
     ]
    }
   ],
   "source": [
    "# Definicion de clase\n",
    "class Cliente:\n",
    "    def __init__(self, nombre, apellido, deuda):\n",
    "        self.nombre = nombre\n",
    "        self.apellido = apellido\n",
    "        self.deuda = deuda\n",
    "\n",
    "\n",
    "cliente1 = Cliente('Jorge', 'Dominguez', 0) # Instanciacion de clase\n",
    "print(cliente1.nombre)\n",
    "print(cliente1.apellido)\n",
    "print(cliente1.deuda)"
   ]
  },
  {
   "cell_type": "code",
   "execution_count": 3,
   "id": "a76eac0c-6e2b-4f78-bd46-a9e7433e1d0e",
   "metadata": {},
   "outputs": [
    {
     "name": "stdout",
     "output_type": "stream",
     "text": [
      "Paco\n",
      "Martinez\n",
      "3000\n"
     ]
    }
   ],
   "source": [
    "cliente1.nombre = 'Paco'\n",
    "cliente1.apellido = 'Martinez'\n",
    "cliente1.deuda = 3000\n",
    "print(cliente1.nombre)\n",
    "print(cliente1.apellido)\n",
    "print(cliente1.deuda)"
   ]
  },
  {
   "cell_type": "code",
   "execution_count": 5,
   "id": "87d7dfbe-0db4-410d-b88d-98dd95962a7f",
   "metadata": {},
   "outputs": [
    {
     "name": "stdout",
     "output_type": "stream",
     "text": [
      "Jorge\n",
      "Dominguez\n",
      "0\n",
      "500\n"
     ]
    }
   ],
   "source": [
    "# Definicion de clase\n",
    "class Cliente:\n",
    "    def __init__(self, nombre, apellido, deuda):\n",
    "        self.nombre = nombre\n",
    "        self.apellido = apellido\n",
    "        self.deuda = deuda\n",
    "\n",
    "    def nueva_factura(self, cuantia_factura):\n",
    "        self.deuda += cuantia_factura \n",
    "\n",
    "\n",
    "cliente1 = Cliente('Jorge', 'Dominguez', 0) # Instanciacion de clase\n",
    "print(cliente1.deuda)\n",
    "\n",
    "cliente1.nueva_factura(500)\n",
    "print(cliente1.deuda)"
   ]
  },
  {
   "cell_type": "code",
   "execution_count": 11,
   "id": "c475ebd6-d9b9-4f29-bffe-1a1e123ea374",
   "metadata": {},
   "outputs": [
    {
     "name": "stdout",
     "output_type": "stream",
     "text": [
      "Honda\n",
      "Accord\n"
     ]
    }
   ],
   "source": [
    "class Coche:\n",
    "    def __init__(self, marca, modelo):\n",
    "        self.marca = marca\n",
    "        self.modelo = modelo\n",
    "\n",
    "coche1 = Coche('Honda', 'Accord')\n",
    "print(coche1.marca)\n",
    "print(coche1.modelo)"
   ]
  },
  {
   "cell_type": "code",
   "execution_count": 1,
   "id": "3bfca3c4-758d-4c54-8365-4434c348c4f9",
   "metadata": {},
   "outputs": [
    {
     "name": "stdout",
     "output_type": "stream",
     "text": [
      "Tengo un coche\n",
      "Tengo una moto\n",
      "Tengo un autobus\n"
     ]
    }
   ],
   "source": [
    "# Clase padre\n",
    "class Vehiculo:\n",
    "    def tipo(self):\n",
    "        print('Tengo un vehiculo')\n",
    "\n",
    "# Clases hija\n",
    "class Coche(Vehiculo):\n",
    "    def tipo(self):\n",
    "        print('Tengo un coche')\n",
    "\n",
    "class Moto(Vehiculo):\n",
    "    def tipo(self):\n",
    "        print('Tengo una moto')\n",
    "\n",
    "class Autobus(Vehiculo):\n",
    "    def tipo(self):\n",
    "        print('Tengo un autobus')\n",
    "\n",
    "for vehiculo in Coche(), Moto(), Autobus():\n",
    "    vehiculo.tipo()"
   ]
  },
  {
   "cell_type": "code",
   "execution_count": 5,
   "id": "4640fd3e-0bf5-4604-acb1-82c38d4e6f49",
   "metadata": {},
   "outputs": [
    {
     "name": "stdout",
     "output_type": "stream",
     "text": [
      "<__main__.Cliente object at 0x0000020234E2D640>\n"
     ]
    }
   ],
   "source": [
    "class Cliente:\n",
    "    def __init__(self, nombre, apellido, deuda):\n",
    "        self.nombre = nombre\n",
    "        self.apellido = apellido\n",
    "        self.deuda = deuda\n",
    "\n",
    "    \n",
    "\n",
    "\n",
    "cliente1 = Cliente('Jorge', 'Dominguez', 0)\n",
    "print(cliente1)\n",
    "    "
   ]
  },
  {
   "cell_type": "code",
   "execution_count": 11,
   "id": "db51c60e-fe79-44e2-8e20-fe1953ae06e2",
   "metadata": {},
   "outputs": [
    {
     "name": "stdout",
     "output_type": "stream",
     "text": [
      "Los argumentos introducidos son: (3, 5)\n",
      "8\n"
     ]
    }
   ],
   "source": [
    "def decorador(funcion):\n",
    "    def nueva_funcionalidad(*args):\n",
    "        print('Los argumentos introducidos son:', args)\n",
    "        funcion(*args)\n",
    "        \n",
    "    return nueva_funcionalidad\n",
    "\n",
    "@decorador\n",
    "def suma(a, b):\n",
    "    print(a + b)\n",
    "\n",
    "suma(3, 5)"
   ]
  },
  {
   "cell_type": "code",
   "execution_count": 3,
   "id": "e8e98275-399c-4111-9f00-2b19d3a8d283",
   "metadata": {},
   "outputs": [
    {
     "name": "stdout",
     "output_type": "stream",
     "text": [
      "El número de clientes es: 2\n"
     ]
    }
   ],
   "source": [
    "class Cliente:\n",
    "    \n",
    "    cantidad_clientes = 0 # Atributo de clase\n",
    "    \n",
    "    def __init__(self, nombre, apellido, deuda):\n",
    "        self.nombre = nombre\n",
    "        self.apellido = apellido\n",
    "        self.deuda = deuda\n",
    "        Cliente.cantidad_clientes += 1\n",
    "\n",
    "    def nueva_factura(self, cuantia_factura):\n",
    "        self.deuda += cuantia_factura \n",
    "\n",
    "    @classmethod\n",
    "    def numero_clientes(cls):\n",
    "        return (f'El número de clientes es: {cls.cantidad_clientes}')\n",
    "        \n",
    "\n",
    "\n",
    "cliente1 = Cliente('Jorge', 'Dominguez', 0) # Instanciacion de clase\n",
    "cliente2 = Cliente('Roberto', 'Álvarez', 300) \n",
    "\n",
    "print(Cliente.numero_clientes())"
   ]
  },
  {
   "cell_type": "code",
   "execution_count": 5,
   "id": "1cb3e700-0a71-4393-a12c-061f78b1585a",
   "metadata": {},
   "outputs": [
    {
     "name": "stdout",
     "output_type": "stream",
     "text": [
      "3\n"
     ]
    }
   ],
   "source": [
    "class OperacionesBasicas:\n",
    "    @staticmethod\n",
    "    def suma(num_1, num_2):\n",
    "        return(num_1 + num_2)\n",
    "\n",
    "    @staticmethod\n",
    "    def resta(num_1, num_2):\n",
    "        return(num_1 - num_2)\n",
    "\n",
    "    @staticmethod\n",
    "    def multiplicacion(num_1, num_2):\n",
    "        return(num_1 * num_2)\n",
    "\n",
    "    @staticmethod\n",
    "    def division(num_1, num_2):\n",
    "        return(num_1 / num_2)\n",
    "\n",
    "print(OperacionesBasicas.suma(1, 2))"
   ]
  },
  {
   "cell_type": "code",
   "execution_count": null,
   "id": "e66a7a41-616f-4edf-838d-ade1e3e4895b",
   "metadata": {},
   "outputs": [],
   "source": []
  }
 ],
 "metadata": {
  "kernelspec": {
   "display_name": "Python [conda env:base] *",
   "language": "python",
   "name": "conda-base-py"
  },
  "language_info": {
   "codemirror_mode": {
    "name": "ipython",
    "version": 3
   },
   "file_extension": ".py",
   "mimetype": "text/x-python",
   "name": "python",
   "nbconvert_exporter": "python",
   "pygments_lexer": "ipython3",
   "version": "3.12.7"
  }
 },
 "nbformat": 4,
 "nbformat_minor": 5
}
