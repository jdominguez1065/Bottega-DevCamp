{
 "cells": [
  {
   "cell_type": "code",
   "execution_count": 17,
   "id": "83b7f683-5b00-4028-beb4-73a8b3800370",
   "metadata": {},
   "outputs": [
    {
     "name": "stdout",
     "output_type": "stream",
     "text": [
      "Usuario: nJbCO\n",
      "Contraseña: t4QPh]q`vv\n"
     ]
    }
   ],
   "source": [
    "import string\n",
    "import random\n",
    "import secrets \n",
    "\n",
    "def generador_usuario(longitud = 5):\n",
    "        longitud_usuario = longitud\n",
    "        caracteres = string.ascii_letters\n",
    "        nombre_usuario = []\n",
    "        while len(nombre_usuario) < longitud_usuario:\n",
    "          nombre_usuario.append(secrets.choice(caracteres)) \n",
    "            \n",
    "        nombre_usuario = \"\".join(nombre_usuario)\n",
    "        return(nombre_usuario)\n",
    "\n",
    "    \n",
    "def generador_contraseña(longitud = 10):\n",
    "    longitud_contraseña = longitud\n",
    "    caracteres = string.ascii_letters + string.digits + string.punctuation\n",
    "    contraseña = []\n",
    "    contraseña.append(random.choice(string.ascii_lowercase)) \n",
    "    contraseña.append(random.choice(string.ascii_uppercase)) \n",
    "    contraseña.append(random.choice(string.digits)) \n",
    "    contraseña.append(random.choice(string.punctuation)) \n",
    "    while len(contraseña) < longitud_contraseña:\n",
    "      contraseña.append(secrets.choice(caracteres)) \n",
    "        \n",
    "    random.shuffle(contraseña)\n",
    "    contraseña = \"\".join(contraseña)\n",
    "    return(contraseña)\n",
    "\n",
    "\n",
    "class Usuario():\n",
    "\n",
    "    def __init__(self):\n",
    "        self.nombre_usuario = generador_usuario()\n",
    "        self.contraseña = generador_contraseña()\n",
    "\n",
    "\n",
    "usuario1 = Usuario()\n",
    "print('Usuario: ' + usuario1.nombre_usuario)\n",
    "print('Contraseña: ' + usuario1.contraseña)"
   ]
  },
  {
   "cell_type": "code",
   "execution_count": null,
   "id": "7382f672-2eed-45ff-8c01-7dae28a5f6f3",
   "metadata": {},
   "outputs": [],
   "source": []
  },
  {
   "cell_type": "code",
   "execution_count": null,
   "id": "903ea650-7932-4015-b6ae-19982471aed0",
   "metadata": {},
   "outputs": [],
   "source": []
  }
 ],
 "metadata": {
  "kernelspec": {
   "display_name": "Python [conda env:base] *",
   "language": "python",
   "name": "conda-base-py"
  },
  "language_info": {
   "codemirror_mode": {
    "name": "ipython",
    "version": 3
   },
   "file_extension": ".py",
   "mimetype": "text/x-python",
   "name": "python",
   "nbconvert_exporter": "python",
   "pygments_lexer": "ipython3",
   "version": "3.12.7"
  }
 },
 "nbformat": 4,
 "nbformat_minor": 5
}
