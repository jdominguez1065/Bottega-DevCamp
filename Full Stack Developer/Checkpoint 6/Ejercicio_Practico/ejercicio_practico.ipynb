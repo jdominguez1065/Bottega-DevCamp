{
 "cells": [
  {
   "cell_type": "code",
   "execution_count": 1,
   "id": "83b7f683-5b00-4028-beb4-73a8b3800370",
   "metadata": {},
   "outputs": [
    {
     "name": "stdout",
     "output_type": "stream",
     "text": [
      "Usuario: Jorge\n",
      "Contraseña: 1234\n"
     ]
    }
   ],
   "source": [
    "class Usuario():\n",
    "\n",
    "    def __init__(self, nombre_usuario, contraseña):\n",
    "        self.nombre_usuario = nombre_usuario\n",
    "        self.contraseña = contraseña\n",
    "\n",
    "\n",
    "usuario1 = Usuario('Jorge', '1234')\n",
    "print('Usuario: ' + usuario1.nombre_usuario)\n",
    "print('Contraseña: ' + usuario1.contraseña)"
   ]
  },
  {
   "cell_type": "code",
   "execution_count": null,
   "id": "7382f672-2eed-45ff-8c01-7dae28a5f6f3",
   "metadata": {},
   "outputs": [],
   "source": []
  },
  {
   "cell_type": "code",
   "execution_count": null,
   "id": "903ea650-7932-4015-b6ae-19982471aed0",
   "metadata": {},
   "outputs": [],
   "source": []
  }
 ],
 "metadata": {
  "kernelspec": {
   "display_name": "Python [conda env:base] *",
   "language": "python",
   "name": "conda-base-py"
  },
  "language_info": {
   "codemirror_mode": {
    "name": "ipython",
    "version": 3
   },
   "file_extension": ".py",
   "mimetype": "text/x-python",
   "name": "python",
   "nbconvert_exporter": "python",
   "pygments_lexer": "ipython3",
   "version": "3.12.7"
  }
 },
 "nbformat": 4,
 "nbformat_minor": 5
}
