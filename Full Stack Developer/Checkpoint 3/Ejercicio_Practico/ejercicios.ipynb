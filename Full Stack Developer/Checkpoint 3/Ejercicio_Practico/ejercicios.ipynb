{
 "cells": [
  {
   "cell_type": "code",
   "execution_count": 25,
   "id": "0dd6a3c2-4ed6-4abf-b8a0-1e0637da7a4e",
   "metadata": {},
   "outputs": [
    {
     "name": "stdout",
     "output_type": "stream",
     "text": [
      "Soy Jorge y tengo 27 años\n",
      "hello world\n"
     ]
    }
   ],
   "source": [
    "# Ejercicio 1\n",
    "string = 'Buenos días' # string\n",
    "num = 27 # number\n",
    "lista_compra = ['peras', 'cebollas', 'platanos'] # List\n",
    "booleano = True # Boolean\n",
    "\n",
    "# Ejercicio 2\n",
    "string_2 = string[0:3]\n",
    "\n",
    "# Ejercicio 3\n",
    "ingrediente = lista_compra[0]\n",
    "\n",
    "# Ejercicio 4\n",
    "num_2 = num + 10\n",
    "\n",
    "# Ejercicio 5\n",
    "ingrediente_2 = lista_compra[-1]\n",
    "\n",
    "# Ejercicio 6\n",
    "names = 'harry,alex,susie,jared,gail,conner'\n",
    "names_list = names.split(',')\n",
    "\n",
    "# Ejercicio 7\n",
    "first_word = string[0:6]\n",
    "first_word_upper = first_word.upper()\n",
    "string = string.replace(first_word, first_word_upper)\n",
    "\n",
    "# Ejercicio 8\n",
    "print(f'Soy Jorge y tengo {num} años')\n",
    "\n",
    "# Ejercicio 9\n",
    "print('hello world')\n",
    "\n",
    "# Ejercicio extra\n",
    "string_3 = 'Hola, me llamo Jorge'\n",
    "string_3 = string_3.replace(string_3[0:4],'adiós')"
   ]
  }
 ],
 "metadata": {
  "kernelspec": {
   "display_name": "Python [conda env:base] *",
   "language": "python",
   "name": "conda-base-py"
  },
  "language_info": {
   "codemirror_mode": {
    "name": "ipython",
    "version": 3
   },
   "file_extension": ".py",
   "mimetype": "text/x-python",
   "name": "python",
   "nbconvert_exporter": "python",
   "pygments_lexer": "ipython3",
   "version": "3.12.7"
  }
 },
 "nbformat": 4,
 "nbformat_minor": 5
}
