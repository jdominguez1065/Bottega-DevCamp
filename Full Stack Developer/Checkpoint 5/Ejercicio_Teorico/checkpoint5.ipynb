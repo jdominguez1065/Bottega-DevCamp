{
 "cells": [
  {
   "cell_type": "code",
   "execution_count": 1,
   "id": "8d9af6f4-7c4f-46e1-8a37-886562ee6e69",
   "metadata": {},
   "outputs": [
    {
     "name": "stdout",
     "output_type": "stream",
     "text": [
      "Tiene edad para sacarse el carné de conducir.\n"
     ]
    }
   ],
   "source": [
    "edad = 27\n",
    "\n",
    "if (edad > 18):\n",
    "    print('Tiene edad para sacarse el carné de conducir.')"
   ]
  },
  {
   "cell_type": "code",
   "execution_count": 11,
   "id": "4dd4d215-31fe-4ed8-8159-ebd31e5bcd36",
   "metadata": {},
   "outputs": [
    {
     "name": "stdout",
     "output_type": "stream",
     "text": [
      "Tiene edad para sacarse el carné de conducir de motos pero no de coches.\n"
     ]
    }
   ],
   "source": [
    "edad = 17\n",
    "\n",
    "if (edad >= 16) and (edad < 18):\n",
    "    print('Tiene edad para sacarse el carné de conducir de motos pero no de coches.')\n",
    "elif (edad >= 18):\n",
    "    print('Tiene edad para sacarse el carné de conducir de coches y motos.')\n",
    "else:\n",
    "    print('No puede conducir ningún vehículo a motor.')    "
   ]
  },
  {
   "cell_type": "code",
   "execution_count": 13,
   "id": "2f71ee75-2e7e-4987-990a-9341e299814e",
   "metadata": {},
   "outputs": [
    {
     "name": "stdout",
     "output_type": "stream",
     "text": [
      "manzanas\n",
      "platanos\n",
      "peras\n",
      "mandarinas\n",
      "limones\n",
      "Fin del programa\n"
     ]
    }
   ],
   "source": [
    "frutas = ['manzanas', 'platanos', 'peras', 'mandarinas', 'limones']\n",
    "for fruta in frutas:\n",
    "    print(fruta)\n",
    "\n",
    "print('Fin del programa')"
   ]
  },
  {
   "cell_type": "code",
   "execution_count": 19,
   "id": "3ab19429-e8ac-4ec6-bf3d-d6c05d7f17ea",
   "metadata": {},
   "outputs": [
    {
     "name": "stdout",
     "output_type": "stream",
     "text": [
      "['manzanas', 'platanos', 'peras', 'mandarinas']\n",
      "['manzanas', 'platanos', 'peras']\n",
      "['manzanas', 'platanos']\n"
     ]
    }
   ],
   "source": [
    "frutas = ['manzanas', 'platanos', 'peras', 'mandarinas', 'limones']\n",
    "\n",
    "while len(frutas) > 2: \n",
    "    frutas.pop()\n",
    "    print(frutas)"
   ]
  },
  {
   "cell_type": "code",
   "execution_count": 44,
   "id": "99110b7c-6b6c-406c-b0ff-5dd2701027a9",
   "metadata": {},
   "outputs": [
    {
     "name": "stdout",
     "output_type": "stream",
     "text": [
      "['manzanas', 'platanos', 'peras', 'mandarinas']\n",
      "['manzanas', 'platanos', 'peras']\n",
      "['manzanas', 'platanos']\n"
     ]
    }
   ],
   "source": [
    "frutas = ['manzanas', 'platanos', 'peras', 'mandarinas', 'limones']\n",
    "\n",
    "for fruta in frutas[::-1]:\n",
    "    frutas.pop()\n",
    "    if (len(frutas) < 2):\n",
    "        break\n",
    "    print(frutas)"
   ]
  },
  {
   "cell_type": "code",
   "execution_count": 48,
   "id": "57c23172-4721-4baa-a00a-6df174309898",
   "metadata": {},
   "outputs": [
    {
     "name": "stdout",
     "output_type": "stream",
     "text": [
      "[1, 4, 9, 16, 25, 36, 49, 64, 81, 100]\n"
     ]
    }
   ],
   "source": [
    "numeros_cuadrados = []\n",
    "\n",
    "for i in range(1, 11):\n",
    "    numeros_cuadrados.append(i**2)\n",
    "\n",
    "print(numeros_cuadrados)"
   ]
  },
  {
   "cell_type": "code",
   "execution_count": 50,
   "id": "204cb9ff-6d93-41a5-8195-d5f07f818443",
   "metadata": {},
   "outputs": [
    {
     "name": "stdout",
     "output_type": "stream",
     "text": [
      "[1, 4, 9, 16, 25, 36, 49, 64, 81, 100]\n"
     ]
    }
   ],
   "source": [
    "numeros_cuadrados = [x**2 for x in range(1, 11)]\n",
    "print(numeros_cuadrados)"
   ]
  },
  {
   "cell_type": "code",
   "execution_count": 52,
   "id": "b21d401f-4e37-4e4a-ad67-a15c48cac1cb",
   "metadata": {},
   "outputs": [
    {
     "name": "stdout",
     "output_type": "stream",
     "text": [
      "15\n"
     ]
    }
   ],
   "source": [
    "def suma(num_1, num_2):\n",
    "    return num_1 + num_2\n",
    "\n",
    "print(suma(10, 5))"
   ]
  },
  {
   "cell_type": "code",
   "execution_count": 56,
   "id": "da189d5f-ec5f-4270-acd8-8f0e1329fde3",
   "metadata": {},
   "outputs": [
    {
     "name": "stdout",
     "output_type": "stream",
     "text": [
      "Buenos días Jorge Dominguez\n",
      "Buenos días Dominguez Jorge\n"
     ]
    }
   ],
   "source": [
    "def saludo(nombre, apellido):\n",
    "    print(f'Buenos días {nombre} {apellido}')\n",
    "\n",
    "saludo('Jorge', 'Dominguez')\n",
    "\n",
    "saludo('Dominguez', 'Jorge')"
   ]
  },
  {
   "cell_type": "code",
   "execution_count": 58,
   "id": "0de256da-9ae4-487a-b4a0-bb8d9412bf14",
   "metadata": {},
   "outputs": [
    {
     "name": "stdout",
     "output_type": "stream",
     "text": [
      "Buenos días Jorge Dominguez\n",
      "Buenos días Jorge Dominguez\n"
     ]
    }
   ],
   "source": [
    "def saludo(nombre, apellido):\n",
    "    print(f'Buenos días {nombre} {apellido}')\n",
    "\n",
    "saludo(nombre = 'Jorge', apellido = 'Dominguez')\n",
    "\n",
    "saludo(apellido = 'Dominguez', nombre = 'Jorge')"
   ]
  },
  {
   "cell_type": "code",
   "execution_count": 3,
   "id": "1b5d8f83-2e04-4d2e-b59b-a64a45c52688",
   "metadata": {},
   "outputs": [
    {
     "name": "stdout",
     "output_type": "stream",
     "text": [
      "15\n"
     ]
    }
   ],
   "source": [
    "suma = lambda num_1, num_2: num_1 + num_2\n",
    "print(suma(num_2 = 10, num_1 = 5))"
   ]
  },
  {
   "cell_type": "code",
   "execution_count": null,
   "id": "e6dbb03b-070c-4b7d-b295-bcb963876ce0",
   "metadata": {},
   "outputs": [],
   "source": []
  }
 ],
 "metadata": {
  "kernelspec": {
   "display_name": "Python [conda env:base] *",
   "language": "python",
   "name": "conda-base-py"
  },
  "language_info": {
   "codemirror_mode": {
    "name": "ipython",
    "version": 3
   },
   "file_extension": ".py",
   "mimetype": "text/x-python",
   "name": "python",
   "nbconvert_exporter": "python",
   "pygments_lexer": "ipython3",
   "version": "3.12.7"
  }
 },
 "nbformat": 4,
 "nbformat_minor": 5
}
