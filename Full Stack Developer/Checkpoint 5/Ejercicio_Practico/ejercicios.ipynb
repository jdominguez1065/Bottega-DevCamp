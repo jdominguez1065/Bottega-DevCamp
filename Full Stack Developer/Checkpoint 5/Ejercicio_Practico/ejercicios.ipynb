{
 "cells": [
  {
   "cell_type": "code",
   "execution_count": 11,
   "id": "fcb4047d-f771-4454-8e6a-0294211cd41f",
   "metadata": {},
   "outputs": [
    {
     "name": "stdout",
     "output_type": "stream",
     "text": [
      "peras\n",
      "manzanas\n",
      "sandias\n",
      "limones\n",
      "fresas\n",
      "mandarinas\n",
      "6\n"
     ]
    }
   ],
   "source": [
    "# Ejercicio 1\n",
    "frutas = ['peras', 'manzanas', 'sandias', 'limones', 'fresas', 'mandarinas']\n",
    "for fruta in frutas:\n",
    "    print(fruta)\n",
    "\n",
    "    \n",
    "# Ejercicio 2\n",
    "def suma(num_1, num_2, num_3):\n",
    "    return(num_1 + num_2 + num_3)\n",
    "\n",
    "    \n",
    "# Ejercicio 3\n",
    "suma_lambda = lambda num_1, num_2, num_3: num_1 + num_2 + num_3\n",
    "\n",
    "\n",
    "# Ejercicio 4\n",
    "nombre = 'Enrique'\n",
    "lista_nombre = 'Jessica', 'Paul', 'George', 'Henry', 'Adán'\n",
    "if nombre in lista_nombre:\n",
    "    print(f'El nombre {nombre} coincide con uno de la lista')\n",
    "\n"
   ]
  },
  {
   "cell_type": "code",
   "execution_count": null,
   "id": "ec60cd95-f80d-474a-82a2-14e047076c8b",
   "metadata": {},
   "outputs": [],
   "source": []
  }
 ],
 "metadata": {
  "kernelspec": {
   "display_name": "Python [conda env:base] *",
   "language": "python",
   "name": "conda-base-py"
  },
  "language_info": {
   "codemirror_mode": {
    "name": "ipython",
    "version": 3
   },
   "file_extension": ".py",
   "mimetype": "text/x-python",
   "name": "python",
   "nbconvert_exporter": "python",
   "pygments_lexer": "ipython3",
   "version": "3.12.7"
  }
 },
 "nbformat": 4,
 "nbformat_minor": 5
}
